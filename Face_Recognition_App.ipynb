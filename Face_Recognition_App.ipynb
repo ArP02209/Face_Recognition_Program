{
 "cells": [
  {
   "cell_type": "markdown",
   "metadata": {
    "id": "LE8Ae8Vm5G8q"
   },
   "source": [
    "## Face Recognition – Unlock Your Computer With Your Face!"
   ]
  },
  {
   "cell_type": "markdown",
   "metadata": {
    "id": "Y3BVpDZs5G8y"
   },
   "source": [
    "\n",
    "### Step 1 - Create Training Data"
   ]
  },
  {
   "cell_type": "code",
   "execution_count": null,
   "metadata": {
    "id": "j56z84eW5G8z",
    "outputId": "c274ba0f-e3ac-4de3-ed1d-d7ed3ceeea79"
   },
   "outputs": [],
   "source": [
    "import cv2\n",
    "import numpy as np\n",
    "\n",
    "# Load HAAR face classifier\n",
    "face_classifier = cv2.CascadeClassifier('haarcascade_frontalface_default.xml')\n",
    "\n",
    "# Load functions\n",
    "def face_extractor(img):\n",
    "    # Function detects faces and returns the cropped face\n",
    "    # If no face detected, it returns the input image\n",
    "    \n",
    "    gray = cv2.cvtColor(img,cv2.COLOR_BGR2GRAY)\n",
    "    faces = face_classifier.detectMultiScale(gray, 1.3, 5)\n",
    "    \n",
    "    if faces is ():\n",
    "        return None\n",
    "    \n",
    "    # Crop all faces found\n",
    "    for (x,y,w,h) in faces:\n",
    "        cropped_face = img[y:y+h, x:x+w]\n",
    "\n",
    "    return cropped_face\n",
    "\n",
    "# Initialize Webcam\n",
    "cap = cv2.VideoCapture(0)\n",
    "count = 0\n",
    "\n",
    "# Collect 100 samples of your face from webcam input\n",
    "while True:\n",
    "\n",
    "    ret, frame = cap.read()\n",
    "    if face_extractor(frame) is not None:\n",
    "        count += 1\n",
    "        face = cv2.resize(face_extractor(frame), (200, 200))\n",
    "        face = cv2.cvtColor(face, cv2.COLOR_BGR2GRAY)\n",
    "        \n",
    "        # Save file in specified directory with unique name\n",
    "        file_name_path = './Faces/user/' + str(count) + '.jpg'\n",
    "        cv2.imwrite(file_name_path, face)\n",
    "\n",
    "        # Put count on images and display live count\n",
    "        cv2.putText(face, str(count), (50, 50), cv2.FONT_HERSHEY_COMPLEX, 1, (0,255,0), 2)\n",
    "        cv2.imshow('Face Cropper', face)\n",
    "        \n",
    "    else:\n",
    "        print(\"Face not found\")\n",
    "        pass\n",
    "\n",
    "    if cv2.waitKey(1) == 13 or count == 100: #13 is the Enter Key\n",
    "        break\n",
    "        \n",
    "cap.release()\n",
    "cv2.destroyAllWindows()      \n",
    "print(\"Collecting Samples Complete\")"
   ]
  },
  {
   "cell_type": "markdown",
   "metadata": {
    "id": "eyDZN8nU5G82"
   },
   "source": [
    "### Step 2 - Train Model"
   ]
  },
  {
   "cell_type": "code",
   "execution_count": null,
   "metadata": {
    "id": "0F9jN5nK5G83"
   },
   "outputs": [],
   "source": [
    "cap.release()"
   ]
  },
  {
   "cell_type": "code",
   "execution_count": null,
   "metadata": {
    "id": "FW2lexu15G83",
    "outputId": "84d1957c-4e75-4f94-8f32-c57f05e74a4a"
   },
   "outputs": [],
   "source": [
    "import cv2\n",
    "import numpy as np\n",
    "from os import listdir\n",
    "from os.path import isfile, join\n",
    "\n",
    "# Get the training data we previously made\n",
    "data_path = './Faces/user/'\n",
    "onlyfiles = [f for f in listdir(data_path) if isfile(join(data_path, f))]\n",
    "\n",
    "# Create arrays for training data and labels\n",
    "Training_Data, Labels = [], []\n",
    "\n",
    "# Open training images in our datapath\n",
    "# Create a numpy array for training data\n",
    "for i, files in enumerate(onlyfiles):\n",
    "    image_path = data_path + onlyfiles[i]\n",
    "    images = cv2.imread(image_path, cv2.IMREAD_GRAYSCALE)\n",
    "    Training_Data.append(np.asarray(images, dtype=np.uint8))\n",
    "    Labels.append(i)\n",
    "\n",
    "# Create a numpy array for both training data and labels\n",
    "Labels = np.asarray(Labels, dtype=np.int32)\n",
    "\n",
    "# Initialize facial recognizer\n",
    "# model = cv2.face.createLBPHFaceRecognizer()\n",
    "# NOTE: For OpenCV 3.0 use cv2.face.createLBPHFaceRecognizer()\n",
    "# pip install opencv-contrib-python\n",
    "# model = cv2.createLBPHFaceRecognizer()\n",
    "\n",
    "model= cv2.face_LBPHFaceRecognizer.create()\n",
    "# Let's train our model \n",
    "model.train(np.asarray(Training_Data), np.asarray(Labels))\n",
    "print(\"Model trained sucessefully\")\n"
   ]
  },
  {
   "cell_type": "markdown",
   "metadata": {
    "id": "b9sawRAx5G84"
   },
   "source": [
    "### Step 3 - Run Our Facial Recognition"
   ]
  },
  {
   "cell_type": "code",
   "execution_count": null,
   "metadata": {
    "id": "R9m_yrG_5G85",
    "outputId": "db769857-a1cc-4ad7-fc17-f8233fc66075"
   },
   "outputs": [],
   "source": [
    "import cv2\n",
    "import numpy as np\n",
    "import os\n",
    "import time\n",
    "\n",
    "face_classifier = cv2.CascadeClassifier('haarcascade_frontalface_default.xml')\n",
    "\n",
    "def face_detector(img, size=0.5):\n",
    "    \n",
    "    # Convert image to grayscale\n",
    "    gray = cv2.cvtColor(img,cv2.COLOR_BGR2GRAY)\n",
    "    faces = face_classifier.detectMultiScale(gray, 1.3, 5)\n",
    "    if faces is ():\n",
    "        return img, []\n",
    "    \n",
    "    \n",
    "    for (x,y,w,h) in faces:\n",
    "        cv2.rectangle(img,(x,y),(x+w,y+h),(0,255,255),2)\n",
    "        roi = img[y:y+h, x:x+w]\n",
    "        roi = cv2.resize(roi, (200, 200))\n",
    "    return img, roi\n",
    "\n",
    "\n",
    "\n",
    "# Open Webcam\n",
    "cap = cv2.VideoCapture(0)\n",
    "\n",
    "while True:\n",
    "    #Capturing image\n",
    "    ret, frame = cap.read()\n",
    "    \n",
    "    #Calling function for face detection\n",
    "    image, face = face_detector(frame)\n",
    "    \n",
    "    try:\n",
    "        face = cv2.cvtColor(face, cv2.COLOR_BGR2GRAY)\n",
    "\n",
    "        # Pass face to prediction model\n",
    "        # \"results\" comprises of a tuple containing the label and the confidence value\n",
    "        results = model.predict(face)\n",
    "        \n",
    "        if results[1] < 500:\n",
    "            confidence = int( 100 * (1 - (results[1])/400) )\n",
    "            display_string = str(confidence) + '% Confident it is User'\n",
    "            \n",
    "        cv2.putText(image, display_string, (240, 180), cv2.FONT_HERSHEY_COMPLEX, 1, (255,120,150), 2)\n",
    "        \n",
    "        #confidence>=85 : detect my face and send messages to different social media platforms\n",
    "        if confidence >=85:\n",
    "            cv2.putText(image, \"Hey Aditya\", (250, 450), cv2.FONT_HERSHEY_COMPLEX, 1, (0,255,0), 2)\n",
    "        \n",
    "            cv2.imshow('Face Recognition', image )\n",
    "           \n",
    "            send_mail(image)\n",
    "            print(\"Image mailed to receiver sucessfully..\")\n",
    "            \n",
    "            print(\"\\n Enter whatsapp number of recipient ...\")\n",
    "            whatsapp_message()\n",
    "            print(\"Whatsapp message send to receiver...\")\n",
    "            \n",
    "            print(\"\\n Enter the phone no. on which you want to send SMS...\")\n",
    "            send_sms()\n",
    "            print(\"SMS sent sucessfully\")\n",
    "            \n",
    "            telegram_message()\n",
    "            print(\"Face detected sucessfully!!\")\n",
    "            break\n",
    "        \n",
    "        # confidence<85 : Call function to create ec2 instance and ebs volume and will attach it\n",
    "        else:\n",
    "            \n",
    "            cv2.putText(image, \"I dont know who u are\", (250, 450), cv2.FONT_HERSHEY_COMPLEX, 1, (0,0,255), 2)\n",
    "            cv2.imshow('Face Recognition', image )\n",
    "            \n",
    "            ec2_ebs_create()\n",
    "            print(\" EC2 instance and volume created and attached sucessfully!!\")\n",
    "\n",
    "    except:\n",
    "        cv2.putText(image, \"No Face Found\", (220, 120) , cv2.FONT_HERSHEY_COMPLEX, 1, (0,0,255), 2)\n",
    "        cv2.putText(image, \"looking for face\", (250, 450), cv2.FONT_HERSHEY_COMPLEX, 1, (0,0,255), 2)\n",
    "       \n",
    "        cv2.imshow('Face Recognition', image )\n",
    "       \n",
    "        pass\n",
    "        \n",
    "    if cv2.waitKey(1) == 13: #13 is the Enter Key\n",
    "        break\n",
    "        \n",
    "cap.release()\n",
    "cv2.destroyAllWindows()     "
   ]
  },
  {
   "cell_type": "code",
   "execution_count": null,
   "metadata": {},
   "outputs": [],
   "source": [
    "from email.message import EmailMessage\n",
    "import smtplib\n",
    "\n",
    "#send image as attachment to recipient mailid \n",
    "def send_mail(image):\n",
    "    cv2.putText(image, \"This is photo of AdityaP\", (120, 120) , cv2.FONT_HERSHEY_COMPLEX, 1, (255,0,255), 2)\n",
    "    \n",
    "    #Save image into current directory\n",
    "    cv2.imwrite('myphoto.jpg',image)\n",
    "    \n",
    "    #Opening image in binary format and read it\n",
    "    with open('myphoto.jpg','rb') as img:\n",
    "        img_data=img.read()\n",
    "    \n",
    "    sender = os.environ.get('MAIL_ADDR')\n",
    "    password = os.environ.get('MAIL_PASSWD')\n",
    "    \n",
    "    #Calling EmailMessage class\n",
    "    message = EmailMessage()\n",
    "    message['Subject'] = 'SMTP Mail Request!'\n",
    "    message['From'] = sender\n",
    "    message['To'] = 'ksatpute407@gmail.com'\n",
    "    message.set_content(\"This is photo of AdityaP.\")\n",
    "    \n",
    "    #Adding image to be sent as attachment\n",
    "    message.add_attachment(img_data,maintype='image',subtype='jpg',filename=img.name)\n",
    "    \n",
    "    #Connecting SMTP mail server using SSL connection \n",
    "    smtpObj = smtplib.SMTP_SSL('smtp.gmail.com',465)\n",
    "    smtpObj.login(sender,password)\n",
    "    smtpObj.send_message(message)         \n",
    "    \n"
   ]
  },
  {
   "cell_type": "code",
   "execution_count": null,
   "metadata": {},
   "outputs": [],
   "source": [
    "import pywhatkit\n",
    "import getpass\n",
    "\n",
    "#Send whatsapp message to my friend\n",
    "def whatsapp_message():\n",
    "    PHONE_NO= getpass.getpass()\n",
    "    pywhatkit.sendwhatmsg_instantly(PHONE_NO, \"Hello friend!! how are you doing??\")"
   ]
  },
  {
   "cell_type": "code",
   "execution_count": null,
   "metadata": {},
   "outputs": [],
   "source": [
    "#whatsapp_message()"
   ]
  },
  {
   "cell_type": "code",
   "execution_count": null,
   "metadata": {},
   "outputs": [],
   "source": [
    "import boto3\n",
    "import getpass\n",
    "\n",
    "#send sms to specified phone number\n",
    "def send_sms():\n",
    "    p_no= getpass.getpass()\n",
    "    client=boto3.client('sns','ap-south-1')\n",
    "    client.publish(PhoneNumber=p_no,Message=\"Hello World how are you??\")\n",
    "    "
   ]
  },
  {
   "cell_type": "code",
   "execution_count": null,
   "metadata": {},
   "outputs": [],
   "source": [
    "#send_sms()"
   ]
  },
  {
   "cell_type": "code",
   "execution_count": 2,
   "metadata": {},
   "outputs": [
    {
     "data": {
      "text/plain": [
       "<Response [200]>"
      ]
     },
     "execution_count": 2,
     "metadata": {},
     "output_type": "execute_result"
    }
   ],
   "source": [
    "import tpvars\n",
    "import requests\n",
    "\n",
    "#Sending request to HTTP API URL to send message on telegram channel\n",
    "def telegram_message():\n",
    "    URL=tpvars.base_url\n",
    "    requests.get(URL)\n"
   ]
  },
  {
   "cell_type": "code",
   "execution_count": null,
   "metadata": {},
   "outputs": [],
   "source": [
    "\n",
    "#Create and launch ec2 instance and ebs volume using Terraform\n",
    "def ec2_ebs_create():\n",
    "    os.system('terraform init')\n",
    "    os.system('terraform apply --auto-approve')"
   ]
  }
 ],
 "metadata": {
  "colab": {
   "name": "Face Recognition – Unlock Your Computer With Your Face.ipynb",
   "provenance": []
  },
  "kernelspec": {
   "display_name": "Python 3",
   "language": "python",
   "name": "python3"
  },
  "language_info": {
   "codemirror_mode": {
    "name": "ipython",
    "version": 3
   },
   "file_extension": ".py",
   "mimetype": "text/x-python",
   "name": "python",
   "nbconvert_exporter": "python",
   "pygments_lexer": "ipython3",
   "version": "3.8.3"
  }
 },
 "nbformat": 4,
 "nbformat_minor": 1
}
